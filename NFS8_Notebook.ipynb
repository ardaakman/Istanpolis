{
 "cells": [
  {
   "cell_type": "code",
   "execution_count": 20,
   "id": "1a61f2e3",
   "metadata": {},
   "outputs": [],
   "source": [
    "import pandas as pd\n",
    "import numpy as np\n",
    "import re\n",
    "import openpyxl"
   ]
  },
  {
   "cell_type": "code",
   "execution_count": 2,
   "id": "ae2af413",
   "metadata": {},
   "outputs": [],
   "source": [
    "df_hans = pd.read_csv('data/NFS8-Hans.tsv', sep = '\\t')\n",
    "df_asitane = pd.read_csv('data/NFS8-Asitane.tsv', sep = '\\t')\n",
    "df_galata = pd.read_csv('data/NFS8-Galata.tsv', sep = '\\t')\n",
    "df_yenikoy = pd.read_csv('data/NFS8-Yeniköy_İstinye_Emirgan.tsv', sep = '\\t')"
   ]
  },
  {
   "cell_type": "code",
   "execution_count": 3,
   "id": "c7044e04",
   "metadata": {},
   "outputs": [],
   "source": [
    "#Run this only once\n",
    "df_galata.columns = df_galata.iloc[0]\n",
    "df_galata = df_galata.drop(0, axis = 0)\n",
    "df_galata = df_galata.loc[:, df_galata.columns.notnull()]"
   ]
  },
  {
   "cell_type": "code",
   "execution_count": 4,
   "id": "d29218a9",
   "metadata": {},
   "outputs": [
    {
     "data": {
      "text/html": [
       "<div>\n",
       "<style scoped>\n",
       "    .dataframe tbody tr th:only-of-type {\n",
       "        vertical-align: middle;\n",
       "    }\n",
       "\n",
       "    .dataframe tbody tr th {\n",
       "        vertical-align: top;\n",
       "    }\n",
       "\n",
       "    .dataframe thead th {\n",
       "        text-align: right;\n",
       "    }\n",
       "</style>\n",
       "<table border=\"1\" class=\"dataframe\">\n",
       "  <thead>\n",
       "    <tr style=\"text-align: right;\">\n",
       "      <th></th>\n",
       "      <th>Register</th>\n",
       "      <th>Date</th>\n",
       "      <th>Unique person ID#</th>\n",
       "      <th>Entry code (page#/line/entry)</th>\n",
       "      <th>Guarantor (Kefil) name(s)</th>\n",
       "      <th>Guarantor (Kefil) religion (Muslim or Christian)</th>\n",
       "      <th>Han Nazırı name(s)</th>\n",
       "      <th>Han Name</th>\n",
       "      <th>Descriptor/location of Han</th>\n",
       "      <th>Neighborhood</th>\n",
       "      <th>...</th>\n",
       "      <th>Unnamed: 37</th>\n",
       "      <th>church position</th>\n",
       "      <th>church name</th>\n",
       "      <th>name of weapon</th>\n",
       "      <th>number of weapons</th>\n",
       "      <th>name of weapons</th>\n",
       "      <th>name of weapon.1</th>\n",
       "      <th>other info</th>\n",
       "      <th>other info.1</th>\n",
       "      <th>comments/intuitive info</th>\n",
       "    </tr>\n",
       "  </thead>\n",
       "  <tbody>\n",
       "    <tr>\n",
       "      <th>0</th>\n",
       "      <td>NFS.d_008</td>\n",
       "      <td>H 29-12-1236</td>\n",
       "      <td>NaN</td>\n",
       "      <td>4A1</td>\n",
       "      <td>NaN</td>\n",
       "      <td>NaN</td>\n",
       "      <td>NaN</td>\n",
       "      <td>Kürkçü Han</td>\n",
       "      <td>Mahmud Paşa kurbunda</td>\n",
       "      <td>NaN</td>\n",
       "      <td>...</td>\n",
       "      <td>NaN</td>\n",
       "      <td>NaN</td>\n",
       "      <td>NaN</td>\n",
       "      <td>NaN</td>\n",
       "      <td>NaN</td>\n",
       "      <td>NaN</td>\n",
       "      <td>NaN</td>\n",
       "      <td>NaN</td>\n",
       "      <td>NaN</td>\n",
       "      <td>NaN</td>\n",
       "    </tr>\n",
       "    <tr>\n",
       "      <th>1</th>\n",
       "      <td>8</td>\n",
       "      <td>H 29-12-1236</td>\n",
       "      <td>NaN</td>\n",
       "      <td>NaN</td>\n",
       "      <td>NaN</td>\n",
       "      <td>NaN</td>\n",
       "      <td>NaN</td>\n",
       "      <td>Kürkçü Han</td>\n",
       "      <td>Mahmud Paşa kurbunda</td>\n",
       "      <td>NaN</td>\n",
       "      <td>...</td>\n",
       "      <td>NaN</td>\n",
       "      <td>NaN</td>\n",
       "      <td>NaN</td>\n",
       "      <td>NaN</td>\n",
       "      <td>NaN</td>\n",
       "      <td>NaN</td>\n",
       "      <td>NaN</td>\n",
       "      <td>NaN</td>\n",
       "      <td>NaN</td>\n",
       "      <td>NaN</td>\n",
       "    </tr>\n",
       "    <tr>\n",
       "      <th>2</th>\n",
       "      <td>8</td>\n",
       "      <td>H 29-12-1236</td>\n",
       "      <td>NaN</td>\n",
       "      <td>NaN</td>\n",
       "      <td>NaN</td>\n",
       "      <td>NaN</td>\n",
       "      <td>NaN</td>\n",
       "      <td>Kürkçü Han</td>\n",
       "      <td>Mahmud Paşa kurbunda</td>\n",
       "      <td>NaN</td>\n",
       "      <td>...</td>\n",
       "      <td>NaN</td>\n",
       "      <td>NaN</td>\n",
       "      <td>NaN</td>\n",
       "      <td>NaN</td>\n",
       "      <td>NaN</td>\n",
       "      <td>NaN</td>\n",
       "      <td>NaN</td>\n",
       "      <td>NaN</td>\n",
       "      <td>NaN</td>\n",
       "      <td>NaN</td>\n",
       "    </tr>\n",
       "    <tr>\n",
       "      <th>3</th>\n",
       "      <td>8</td>\n",
       "      <td>H 29-12-1236</td>\n",
       "      <td>NaN</td>\n",
       "      <td>NaN</td>\n",
       "      <td>NaN</td>\n",
       "      <td>NaN</td>\n",
       "      <td>NaN</td>\n",
       "      <td>Kürkçü Han</td>\n",
       "      <td>Mahmud Paşa kurbunda</td>\n",
       "      <td>NaN</td>\n",
       "      <td>...</td>\n",
       "      <td>NaN</td>\n",
       "      <td>NaN</td>\n",
       "      <td>NaN</td>\n",
       "      <td>NaN</td>\n",
       "      <td>NaN</td>\n",
       "      <td>NaN</td>\n",
       "      <td>NaN</td>\n",
       "      <td>NaN</td>\n",
       "      <td>NaN</td>\n",
       "      <td>NaN</td>\n",
       "    </tr>\n",
       "    <tr>\n",
       "      <th>4</th>\n",
       "      <td>8</td>\n",
       "      <td>NaN</td>\n",
       "      <td>NaN</td>\n",
       "      <td>NaN</td>\n",
       "      <td>NaN</td>\n",
       "      <td>NaN</td>\n",
       "      <td>NaN</td>\n",
       "      <td>Kürkçü Han</td>\n",
       "      <td>Mahmud Paşa kurbunda</td>\n",
       "      <td>NaN</td>\n",
       "      <td>...</td>\n",
       "      <td>NaN</td>\n",
       "      <td>NaN</td>\n",
       "      <td>NaN</td>\n",
       "      <td>NaN</td>\n",
       "      <td>NaN</td>\n",
       "      <td>NaN</td>\n",
       "      <td>NaN</td>\n",
       "      <td>NaN</td>\n",
       "      <td>NaN</td>\n",
       "      <td>NaN</td>\n",
       "    </tr>\n",
       "  </tbody>\n",
       "</table>\n",
       "<p>5 rows × 47 columns</p>\n",
       "</div>"
      ],
      "text/plain": [
       "    Register          Date  Unique person ID# Entry code (page#/line/entry)  \\\n",
       "0  NFS.d_008  H 29-12-1236                NaN                           4A1   \n",
       "1          8  H 29-12-1236                NaN                           NaN   \n",
       "2          8  H 29-12-1236                NaN                           NaN   \n",
       "3          8  H 29-12-1236                NaN                           NaN   \n",
       "4          8           NaN                NaN                           NaN   \n",
       "\n",
       "   Guarantor (Kefil) name(s)  \\\n",
       "0                        NaN   \n",
       "1                        NaN   \n",
       "2                        NaN   \n",
       "3                        NaN   \n",
       "4                        NaN   \n",
       "\n",
       "   Guarantor (Kefil) religion (Muslim or Christian)  Han Nazırı name(s)  \\\n",
       "0                                               NaN                 NaN   \n",
       "1                                               NaN                 NaN   \n",
       "2                                               NaN                 NaN   \n",
       "3                                               NaN                 NaN   \n",
       "4                                               NaN                 NaN   \n",
       "\n",
       "     Han Name Descriptor/location of Han  Neighborhood  ... Unnamed: 37  \\\n",
       "0  Kürkçü Han       Mahmud Paşa kurbunda           NaN  ...         NaN   \n",
       "1  Kürkçü Han       Mahmud Paşa kurbunda           NaN  ...         NaN   \n",
       "2  Kürkçü Han       Mahmud Paşa kurbunda           NaN  ...         NaN   \n",
       "3  Kürkçü Han       Mahmud Paşa kurbunda           NaN  ...         NaN   \n",
       "4  Kürkçü Han       Mahmud Paşa kurbunda           NaN  ...         NaN   \n",
       "\n",
       "  church position  church name name of weapon number of weapons  \\\n",
       "0             NaN          NaN            NaN               NaN   \n",
       "1             NaN          NaN            NaN               NaN   \n",
       "2             NaN          NaN            NaN               NaN   \n",
       "3             NaN          NaN            NaN               NaN   \n",
       "4             NaN          NaN            NaN               NaN   \n",
       "\n",
       "  name of weapons name of weapon.1 other info  other info.1  \\\n",
       "0             NaN              NaN        NaN           NaN   \n",
       "1             NaN              NaN        NaN           NaN   \n",
       "2             NaN              NaN        NaN           NaN   \n",
       "3             NaN              NaN        NaN           NaN   \n",
       "4             NaN              NaN        NaN           NaN   \n",
       "\n",
       "   comments/intuitive info  \n",
       "0                      NaN  \n",
       "1                      NaN  \n",
       "2                      NaN  \n",
       "3                      NaN  \n",
       "4                      NaN  \n",
       "\n",
       "[5 rows x 47 columns]"
      ]
     },
     "execution_count": 4,
     "metadata": {},
     "output_type": "execute_result"
    }
   ],
   "source": [
    "df_asitane.head(5)"
   ]
  },
  {
   "cell_type": "code",
   "execution_count": 5,
   "id": "011dd5b2",
   "metadata": {},
   "outputs": [
    {
     "name": "stderr",
     "output_type": "stream",
     "text": [
      "/var/folders/61/v75z8wf12tscwpd8xmvjl4km0000gn/T/ipykernel_3538/3603893375.py:5: FutureWarning: The default value of regex will change from True to False in a future version.\n",
      "  df_asitane['Profession'] = df_asitane['Profession'].str.replace('[\\*\\(\\)\\?)]', '')\n",
      "/var/folders/61/v75z8wf12tscwpd8xmvjl4km0000gn/T/ipykernel_3538/3603893375.py:6: FutureWarning: The default value of regex will change from True to False in a future version.\n",
      "  df_asitane['Profession'] = df_asitane['Profession'].str.replace('[\\s]*', '')\n"
     ]
    }
   ],
   "source": [
    "#Asitane Profession Normalization\n",
    "df_asitane['Profession'] = df_asitane['Profession'].str.lower()\n",
    "df_asitane['Profession With ?'] = df_asitane['Profession'].str.contains(r'\\?')\n",
    "df_asitane['Profession With *'] = df_asitane['Profession'].str.contains(r'\\*')\n",
    "df_asitane['Profession'] = df_asitane['Profession'].str.replace('[\\*\\(\\)\\?)]', '')\n",
    "df_asitane['Profession'] = df_asitane['Profession'].str.replace('[\\s]*', '')"
   ]
  },
  {
   "cell_type": "code",
   "execution_count": 6,
   "id": "03c3dd34",
   "metadata": {},
   "outputs": [
    {
     "name": "stderr",
     "output_type": "stream",
     "text": [
      "/var/folders/61/v75z8wf12tscwpd8xmvjl4km0000gn/T/ipykernel_3538/1103079448.py:5: FutureWarning: The default value of regex will change from True to False in a future version.\n",
      "  df_yenikoy['Profession'] = df_yenikoy['Profession'].str.replace('[\\*\\(\\)\\?)]', '')\n",
      "/var/folders/61/v75z8wf12tscwpd8xmvjl4km0000gn/T/ipykernel_3538/1103079448.py:6: FutureWarning: The default value of regex will change from True to False in a future version.\n",
      "  df_yenikoy['Profession'] = df_yenikoy['Profession'].str.replace('[\\s]*', '')\n"
     ]
    }
   ],
   "source": [
    "#Yenikoy Profession Normalization\n",
    "df_yenikoy['Profession'] = df_yenikoy['Profession'].str.lower()\n",
    "df_yenikoy['Profession With ?'] = df_yenikoy['Profession'].str.contains(r'\\?')\n",
    "df_yenikoy['Profession With *'] = df_yenikoy['Profession'].str.contains(r'\\*')\n",
    "df_yenikoy['Profession'] = df_yenikoy['Profession'].str.replace('[\\*\\(\\)\\?)]', '')\n",
    "df_yenikoy['Profession'] = df_yenikoy['Profession'].str.replace('[\\s]*', '')"
   ]
  },
  {
   "cell_type": "code",
   "execution_count": 7,
   "id": "ded2fd95",
   "metadata": {},
   "outputs": [],
   "source": [
    "places = ['asitane', 'galata', 'yenikoy']\n",
    "dfs = [df_asitane, df_galata, df_yenikoy]"
   ]
  },
  {
   "cell_type": "code",
   "execution_count": 8,
   "id": "c3a914b3",
   "metadata": {},
   "outputs": [
    {
     "data": {
      "text/plain": [
       "0     Kürkçü Han\n",
       "1     Kürkçü Han\n",
       "2     Kürkçü Han\n",
       "3     Kürkçü Han\n",
       "4     Kürkçü Han\n",
       "5     Kürkçü Han\n",
       "6     Kürkçü Han\n",
       "7     Kürkçü Han\n",
       "8     Kürkçü Han\n",
       "9     Kürkçü Han\n",
       "10    Kürkçü Han\n",
       "11    Kürkçü Han\n",
       "12    Kürkçü Han\n",
       "13    Kürkçü Han\n",
       "14    Kürkçü Han\n",
       "15    Kürkçü Han\n",
       "16    Kürkçü Han\n",
       "17    Kürkçü Han\n",
       "18    Kürkçü Han\n",
       "19    Kürkçü Han\n",
       "20    Kürkçü Han\n",
       "21    Kürkçü Han\n",
       "Name: Han Name, dtype: object"
      ]
     },
     "execution_count": 8,
     "metadata": {},
     "output_type": "execute_result"
    }
   ],
   "source": [
    "df_asitane['Han Name']"
   ]
  },
  {
   "cell_type": "code",
   "execution_count": 9,
   "id": "9ef750de",
   "metadata": {},
   "outputs": [
    {
     "data": {
      "text/plain": [
       "(172, 9)"
      ]
     },
     "execution_count": 9,
     "metadata": {},
     "output_type": "execute_result"
    }
   ],
   "source": [
    "#Getting rid of repeated han names\n",
    "unique_hans = df_hans['Name of han'].unique()\n",
    "df_hans = df_hans.drop_duplicates(subset = ['Name of han'], keep = 'first') #Before this, the hands dataframe had 176 rows but 172 unique han names\n",
    "df_hans.shape"
   ]
  },
  {
   "cell_type": "code",
   "execution_count": 10,
   "id": "26e6e639",
   "metadata": {},
   "outputs": [
    {
     "data": {
      "text/plain": [
       "0      [ Kürkçü Sinan Çorbacı ,  Simsar Balaş Çorbacı...\n",
       "1      [ Kürkçü Sinan Çorbacı ,  Simsar Balaş Çorbacı...\n",
       "2      [ Kürkçü Sinan Çorbacı ,  Simsar Balaş Çorbacı...\n",
       "3      [ Kürkçü Sinan Çorbacı ,  Simsar Balaş Çorbacı...\n",
       "4      [ Kürkçü Sinan Çorbacı ,  Simsar Balaş Çorbacı...\n",
       "                             ...                        \n",
       "705    [Panayot, Papa Iskuli, Zaferi, Yorgi, Dimitri,...\n",
       "706    [Panayot, Papa Iskuli, Zaferi, Yorgi, Dimitri,...\n",
       "707    [Panayot, Papa Iskuli, Zaferi, Yorgi, Dimitri,...\n",
       "708    [Panayot, Papa Iskuli, Zaferi, Yorgi, Dimitri,...\n",
       "709    [Panayot, Papa Iskuli, Zaferi, Yorgi, Dimitri,...\n",
       "Name: muharrir, Length: 631, dtype: object"
      ]
     },
     "execution_count": 10,
     "metadata": {},
     "output_type": "execute_result"
    }
   ],
   "source": [
    "#Split of muharrir \n",
    "split_on = r\"\\([\\d*]\\)\"\n",
    "muharrir_split = df_yenikoy.loc[df_yenikoy['muharrir'].str.contains(r\"\\([\\d*]\\)\", na= False)]['muharrir'].str.split(split_on) #Doing split in only parenthesis formatted \n",
    "muharrir_split = muharrir_split.str[1:]\n",
    "split_on_ve = r\" ve \"\n",
    "muharrir_split_ve = df_yenikoy.loc[df_yenikoy['muharrir'].str.contains(r\" ve \", na= False)]['muharrir'].str.split(split_on_ve)\n",
    "muharrir_split_general = pd.concat([muharrir_split, muharrir_split_ve])\n",
    "muharrir_split_general"
   ]
  },
  {
   "cell_type": "code",
   "execution_count": 11,
   "id": "93ab2315",
   "metadata": {},
   "outputs": [],
   "source": [
    "df_muharrir = pd.DataFrame(muharrir_split_general)\n",
    "df_all_muh = pd.DataFrame(df_muharrir['muharrir'].to_list(), index = df_muharrir.index,  columns = ['Muharrir 1', 'Muharrir 2', 'Muharrir 3', 'Muharrir 4', 'Muharrir 5', 'Muharrir 6', 'Muharrir 7' , 'Muharrir 8', 'Muharrir 9', 'Muharrir 10', 'Muharrir 11'])\n",
    "df_yenikoy = df_yenikoy.merge(df_all_muh, left_index = True, right_index = True)\n",
    "df_yenikoy = df_yenikoy.drop('muharrir', axis = 1)"
   ]
  },
  {
   "cell_type": "code",
   "execution_count": 12,
   "id": "ed4a70e4",
   "metadata": {},
   "outputs": [],
   "source": [
    "df_yenikoy = df_yenikoy.fillna('uknown')"
   ]
  },
  {
   "cell_type": "code",
   "execution_count": 13,
   "id": "2ec922d5",
   "metadata": {},
   "outputs": [],
   "source": [
    "df_galata = df_galata.fillna('uknown')"
   ]
  },
  {
   "cell_type": "code",
   "execution_count": 14,
   "id": "b93157e3",
   "metadata": {},
   "outputs": [],
   "source": [
    "#Function for making sure turkish characters are lowered in the right way.\n",
    "def lower_tr(string):\n",
    "    string_copy = list(string)\n",
    "    string_copy2 = string_copy[:]\n",
    "    for i in range(len(string_copy)):\n",
    "        if string_copy[i] =='I':\n",
    "            element = 'ı'\n",
    "            string_copy2[i] = element\n",
    "        elif string_copy[i] == \"İ\":\n",
    "            element = 'i'\n",
    "            string_copy2[i] == element\n",
    "        else:\n",
    "            element = string_copy[i].lower()\n",
    "            string_copy2[i] = element\n",
    "    return ''.join(string_copy2)"
   ]
  },
  {
   "cell_type": "code",
   "execution_count": 15,
   "id": "b77d3085",
   "metadata": {},
   "outputs": [
    {
     "data": {
      "text/plain": [
       "'a'"
      ]
     },
     "execution_count": 15,
     "metadata": {},
     "output_type": "execute_result"
    }
   ],
   "source": [
    "'A'.lower()"
   ]
  },
  {
   "cell_type": "code",
   "execution_count": 16,
   "id": "046641dd",
   "metadata": {},
   "outputs": [
    {
     "data": {
      "text/plain": [
       "'aaaa'"
      ]
     },
     "execution_count": 16,
     "metadata": {},
     "output_type": "execute_result"
    }
   ],
   "source": [
    "lower_tr('aAaa')"
   ]
  },
  {
   "cell_type": "code",
   "execution_count": 17,
   "id": "9f3e6506",
   "metadata": {},
   "outputs": [
    {
     "name": "stderr",
     "output_type": "stream",
     "text": [
      "/var/folders/61/v75z8wf12tscwpd8xmvjl4km0000gn/T/ipykernel_3538/566951904.py:7: FutureWarning: The default value of regex will change from True to False in a future version.\n",
      "  professions_all['Profession'] = professions_all['Profession'].str.replace(r'\\([\\w\\d\\siİıIçÇşŞüÜğĞöÖ]*\\)', '')\n",
      "/var/folders/61/v75z8wf12tscwpd8xmvjl4km0000gn/T/ipykernel_3538/566951904.py:8: FutureWarning: The default value of regex will change from True to False in a future version.\n",
      "  professions_all_edited = professions_all['Profession'].str.replace(r'[^\\sa-zA-ZğĞüÜşŞİöÖçÇı]*', '')\n"
     ]
    }
   ],
   "source": [
    "professions_yenikoy = df_yenikoy['Profession']\n",
    "professions_galata = df_galata['Profession']\n",
    "professions_all = professions_yenikoy.append(professions_galata)\n",
    "professions_all = professions_all.reset_index()\n",
    "professions_all = professions_all.drop('index', axis = 1)\n",
    "professions_all = professions_all.drop_duplicates(subset = ['Profession']).reset_index().drop('index', axis =1)\n",
    "professions_all['Profession'] = professions_all['Profession'].str.replace(r'\\([\\w\\d\\siİıIçÇşŞüÜğĞöÖ]*\\)', '')\n",
    "professions_all_edited = professions_all['Profession'].str.replace(r'[^\\sa-zA-ZğĞüÜşŞİöÖçÇı]*', '')\n",
    "professions_all_edited = professions_all_edited.apply(lower_tr)\n",
    "professions_all_edited = professions_all_edited.drop_duplicates()\n",
    "professions_all_edited = professions_all_edited.str.strip()\n",
    "professions_all_edited = professions_all_edited.loc[professions_all_edited != ''].reset_index().drop('index', axis =1).squeeze()"
   ]
  },
  {
   "cell_type": "code",
   "execution_count": 18,
   "id": "8f89d5bb",
   "metadata": {},
   "outputs": [
    {
     "data": {
      "text/plain": [
       "0                suyolcu\n",
       "1               yemenici\n",
       "2                kayıkçı\n",
       "3              nasraniye\n",
       "4            kasapustası\n",
       "             ...        \n",
       "95     yeminecikalfaları\n",
       "96    kayıkçıturbitorunu\n",
       "97         kürkçükürekçi\n",
       "98                  papa\n",
       "99                 abaci\n",
       "Name: Profession, Length: 100, dtype: object"
      ]
     },
     "execution_count": 18,
     "metadata": {},
     "output_type": "execute_result"
    }
   ],
   "source": [
    "professions_all_edited.head(100)"
   ]
  },
  {
   "cell_type": "code",
   "execution_count": 21,
   "id": "97f88e57",
   "metadata": {},
   "outputs": [],
   "source": [
    "professions_all_edited.to_excel('professions.xlsx')"
   ]
  },
  {
   "cell_type": "code",
   "execution_count": null,
   "id": "93443ad8",
   "metadata": {},
   "outputs": [],
   "source": []
  }
 ],
 "metadata": {
  "kernelspec": {
   "display_name": "Python 3 (ipykernel)",
   "language": "python",
   "name": "python3"
  },
  "language_info": {
   "codemirror_mode": {
    "name": "ipython",
    "version": 3
   },
   "file_extension": ".py",
   "mimetype": "text/x-python",
   "name": "python",
   "nbconvert_exporter": "python",
   "pygments_lexer": "ipython3",
   "version": "3.8.11"
  }
 },
 "nbformat": 4,
 "nbformat_minor": 5
}
